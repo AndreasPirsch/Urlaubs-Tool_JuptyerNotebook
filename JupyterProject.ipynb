{
  "nbformat": 4,
  "nbformat_minor": 0,
  "metadata": {
    "colab": {
      "provenance": []
    },
    "kernelspec": {
      "name": "python3",
      "display_name": "Python 3"
    },
    "language_info": {
      "name": "python"
    }
  },
  "cells": [
    {
      "cell_type": "markdown",
      "source": [
        "# ========================================\n",
        "# 📘 Analyse der Urlaubsverteilung im Jahr\n",
        "# ========================================\n",
        "# Autor: Andreas Pirsch\n",
        "# Datum: 03. Mai 2025\n",
        "# Beschreibung:\n",
        "# Dieses Notebook analysiert Urlaubsdaten eines Unternehmens und gibt Einblick in Verteilung, Häufigkeit und mögliche Engpässe."
      ],
      "metadata": {
        "id": "G4ZSdm-j3_aX"
      }
    },
    {
      "cell_type": "markdown",
      "source": [
        "## 1. Einleitung\n",
        "Ziel ist es, die Urlaubsverteilung im Laufe eines Kalenderjahres zu analysieren. Das Unternehmen möchte Engpässe erkennen, Stoßzeiten identifizieren und mögliche Handlungsempfehlungen ableiten.\n"
      ],
      "metadata": {
        "id": "0ZphM-oI3oDr"
      }
    },
    {
      "cell_type": "code",
      "source": [
        "# 2. Bibliotheken importieren\n",
        "import pandas as pd\n",
        "import matplotlib.pyplot as plt\n",
        "import seaborn as sns\n",
        "from datetime import datetime\n",
        "\n",
        "# Visualisierung schöner darstellen\n",
        "sns.set(style=\"whitegrid\")\n",
        "%matplotlib inline"
      ],
      "metadata": {
        "id": "y54q5S5n4MhN"
      },
      "execution_count": 1,
      "outputs": []
    },
    {
      "cell_type": "markdown",
      "source": [
        "## 3. Daten einlesen\n",
        "Die Daten liegen im CSV-Format vor. Jede Zeile repräsentiert einen genehmigten Urlaubsantrag.\n"
      ],
      "metadata": {
        "id": "uWNW4WqI3pd9"
      }
    },
    {
      "cell_type": "code",
      "source": [
        "# Beispiel-Daten laden\n",
        "df = pd.read_csv(\"/content/urlaubsantraege.csv\", parse_dates=[\"start_datum\", \"end_datum\"])\n",
        "\n",
        "# Erster Blick auf die Daten\n",
        "df.head()\n"
      ],
      "metadata": {
        "colab": {
          "base_uri": "https://localhost:8080/",
          "height": 206
        },
        "id": "-nwQnnKq6xdI",
        "outputId": "531925ea-cbac-4090-85ec-d654d6c2b18b"
      },
      "execution_count": 2,
      "outputs": [
        {
          "output_type": "execute_result",
          "data": {
            "text/plain": [
              "  mitarbeiter  abteilung start_datum  end_datum\n",
              "0       David         HR  2024-05-02 2024-05-02\n",
              "1       David  Marketing  2024-10-19 2024-10-25\n",
              "2       Clara   Finanzen  2024-06-10 2024-06-10\n",
              "3        Anna   Vertrieb  2024-06-23 2024-07-02\n",
              "4       Clara  Marketing  2024-03-28 2024-04-01"
            ],
            "text/html": [
              "\n",
              "  <div id=\"df-81f7af7e-c15f-43f6-9ea3-001d732baaa4\" class=\"colab-df-container\">\n",
              "    <div>\n",
              "<style scoped>\n",
              "    .dataframe tbody tr th:only-of-type {\n",
              "        vertical-align: middle;\n",
              "    }\n",
              "\n",
              "    .dataframe tbody tr th {\n",
              "        vertical-align: top;\n",
              "    }\n",
              "\n",
              "    .dataframe thead th {\n",
              "        text-align: right;\n",
              "    }\n",
              "</style>\n",
              "<table border=\"1\" class=\"dataframe\">\n",
              "  <thead>\n",
              "    <tr style=\"text-align: right;\">\n",
              "      <th></th>\n",
              "      <th>mitarbeiter</th>\n",
              "      <th>abteilung</th>\n",
              "      <th>start_datum</th>\n",
              "      <th>end_datum</th>\n",
              "    </tr>\n",
              "  </thead>\n",
              "  <tbody>\n",
              "    <tr>\n",
              "      <th>0</th>\n",
              "      <td>David</td>\n",
              "      <td>HR</td>\n",
              "      <td>2024-05-02</td>\n",
              "      <td>2024-05-02</td>\n",
              "    </tr>\n",
              "    <tr>\n",
              "      <th>1</th>\n",
              "      <td>David</td>\n",
              "      <td>Marketing</td>\n",
              "      <td>2024-10-19</td>\n",
              "      <td>2024-10-25</td>\n",
              "    </tr>\n",
              "    <tr>\n",
              "      <th>2</th>\n",
              "      <td>Clara</td>\n",
              "      <td>Finanzen</td>\n",
              "      <td>2024-06-10</td>\n",
              "      <td>2024-06-10</td>\n",
              "    </tr>\n",
              "    <tr>\n",
              "      <th>3</th>\n",
              "      <td>Anna</td>\n",
              "      <td>Vertrieb</td>\n",
              "      <td>2024-06-23</td>\n",
              "      <td>2024-07-02</td>\n",
              "    </tr>\n",
              "    <tr>\n",
              "      <th>4</th>\n",
              "      <td>Clara</td>\n",
              "      <td>Marketing</td>\n",
              "      <td>2024-03-28</td>\n",
              "      <td>2024-04-01</td>\n",
              "    </tr>\n",
              "  </tbody>\n",
              "</table>\n",
              "</div>\n",
              "    <div class=\"colab-df-buttons\">\n",
              "\n",
              "  <div class=\"colab-df-container\">\n",
              "    <button class=\"colab-df-convert\" onclick=\"convertToInteractive('df-81f7af7e-c15f-43f6-9ea3-001d732baaa4')\"\n",
              "            title=\"Convert this dataframe to an interactive table.\"\n",
              "            style=\"display:none;\">\n",
              "\n",
              "  <svg xmlns=\"http://www.w3.org/2000/svg\" height=\"24px\" viewBox=\"0 -960 960 960\">\n",
              "    <path d=\"M120-120v-720h720v720H120Zm60-500h600v-160H180v160Zm220 220h160v-160H400v160Zm0 220h160v-160H400v160ZM180-400h160v-160H180v160Zm440 0h160v-160H620v160ZM180-180h160v-160H180v160Zm440 0h160v-160H620v160Z\"/>\n",
              "  </svg>\n",
              "    </button>\n",
              "\n",
              "  <style>\n",
              "    .colab-df-container {\n",
              "      display:flex;\n",
              "      gap: 12px;\n",
              "    }\n",
              "\n",
              "    .colab-df-convert {\n",
              "      background-color: #E8F0FE;\n",
              "      border: none;\n",
              "      border-radius: 50%;\n",
              "      cursor: pointer;\n",
              "      display: none;\n",
              "      fill: #1967D2;\n",
              "      height: 32px;\n",
              "      padding: 0 0 0 0;\n",
              "      width: 32px;\n",
              "    }\n",
              "\n",
              "    .colab-df-convert:hover {\n",
              "      background-color: #E2EBFA;\n",
              "      box-shadow: 0px 1px 2px rgba(60, 64, 67, 0.3), 0px 1px 3px 1px rgba(60, 64, 67, 0.15);\n",
              "      fill: #174EA6;\n",
              "    }\n",
              "\n",
              "    .colab-df-buttons div {\n",
              "      margin-bottom: 4px;\n",
              "    }\n",
              "\n",
              "    [theme=dark] .colab-df-convert {\n",
              "      background-color: #3B4455;\n",
              "      fill: #D2E3FC;\n",
              "    }\n",
              "\n",
              "    [theme=dark] .colab-df-convert:hover {\n",
              "      background-color: #434B5C;\n",
              "      box-shadow: 0px 1px 3px 1px rgba(0, 0, 0, 0.15);\n",
              "      filter: drop-shadow(0px 1px 2px rgba(0, 0, 0, 0.3));\n",
              "      fill: #FFFFFF;\n",
              "    }\n",
              "  </style>\n",
              "\n",
              "    <script>\n",
              "      const buttonEl =\n",
              "        document.querySelector('#df-81f7af7e-c15f-43f6-9ea3-001d732baaa4 button.colab-df-convert');\n",
              "      buttonEl.style.display =\n",
              "        google.colab.kernel.accessAllowed ? 'block' : 'none';\n",
              "\n",
              "      async function convertToInteractive(key) {\n",
              "        const element = document.querySelector('#df-81f7af7e-c15f-43f6-9ea3-001d732baaa4');\n",
              "        const dataTable =\n",
              "          await google.colab.kernel.invokeFunction('convertToInteractive',\n",
              "                                                    [key], {});\n",
              "        if (!dataTable) return;\n",
              "\n",
              "        const docLinkHtml = 'Like what you see? Visit the ' +\n",
              "          '<a target=\"_blank\" href=https://colab.research.google.com/notebooks/data_table.ipynb>data table notebook</a>'\n",
              "          + ' to learn more about interactive tables.';\n",
              "        element.innerHTML = '';\n",
              "        dataTable['output_type'] = 'display_data';\n",
              "        await google.colab.output.renderOutput(dataTable, element);\n",
              "        const docLink = document.createElement('div');\n",
              "        docLink.innerHTML = docLinkHtml;\n",
              "        element.appendChild(docLink);\n",
              "      }\n",
              "    </script>\n",
              "  </div>\n",
              "\n",
              "\n",
              "    <div id=\"df-163cd719-8266-41eb-ba82-818e8afed5c2\">\n",
              "      <button class=\"colab-df-quickchart\" onclick=\"quickchart('df-163cd719-8266-41eb-ba82-818e8afed5c2')\"\n",
              "                title=\"Suggest charts\"\n",
              "                style=\"display:none;\">\n",
              "\n",
              "<svg xmlns=\"http://www.w3.org/2000/svg\" height=\"24px\"viewBox=\"0 0 24 24\"\n",
              "     width=\"24px\">\n",
              "    <g>\n",
              "        <path d=\"M19 3H5c-1.1 0-2 .9-2 2v14c0 1.1.9 2 2 2h14c1.1 0 2-.9 2-2V5c0-1.1-.9-2-2-2zM9 17H7v-7h2v7zm4 0h-2V7h2v10zm4 0h-2v-4h2v4z\"/>\n",
              "    </g>\n",
              "</svg>\n",
              "      </button>\n",
              "\n",
              "<style>\n",
              "  .colab-df-quickchart {\n",
              "      --bg-color: #E8F0FE;\n",
              "      --fill-color: #1967D2;\n",
              "      --hover-bg-color: #E2EBFA;\n",
              "      --hover-fill-color: #174EA6;\n",
              "      --disabled-fill-color: #AAA;\n",
              "      --disabled-bg-color: #DDD;\n",
              "  }\n",
              "\n",
              "  [theme=dark] .colab-df-quickchart {\n",
              "      --bg-color: #3B4455;\n",
              "      --fill-color: #D2E3FC;\n",
              "      --hover-bg-color: #434B5C;\n",
              "      --hover-fill-color: #FFFFFF;\n",
              "      --disabled-bg-color: #3B4455;\n",
              "      --disabled-fill-color: #666;\n",
              "  }\n",
              "\n",
              "  .colab-df-quickchart {\n",
              "    background-color: var(--bg-color);\n",
              "    border: none;\n",
              "    border-radius: 50%;\n",
              "    cursor: pointer;\n",
              "    display: none;\n",
              "    fill: var(--fill-color);\n",
              "    height: 32px;\n",
              "    padding: 0;\n",
              "    width: 32px;\n",
              "  }\n",
              "\n",
              "  .colab-df-quickchart:hover {\n",
              "    background-color: var(--hover-bg-color);\n",
              "    box-shadow: 0 1px 2px rgba(60, 64, 67, 0.3), 0 1px 3px 1px rgba(60, 64, 67, 0.15);\n",
              "    fill: var(--button-hover-fill-color);\n",
              "  }\n",
              "\n",
              "  .colab-df-quickchart-complete:disabled,\n",
              "  .colab-df-quickchart-complete:disabled:hover {\n",
              "    background-color: var(--disabled-bg-color);\n",
              "    fill: var(--disabled-fill-color);\n",
              "    box-shadow: none;\n",
              "  }\n",
              "\n",
              "  .colab-df-spinner {\n",
              "    border: 2px solid var(--fill-color);\n",
              "    border-color: transparent;\n",
              "    border-bottom-color: var(--fill-color);\n",
              "    animation:\n",
              "      spin 1s steps(1) infinite;\n",
              "  }\n",
              "\n",
              "  @keyframes spin {\n",
              "    0% {\n",
              "      border-color: transparent;\n",
              "      border-bottom-color: var(--fill-color);\n",
              "      border-left-color: var(--fill-color);\n",
              "    }\n",
              "    20% {\n",
              "      border-color: transparent;\n",
              "      border-left-color: var(--fill-color);\n",
              "      border-top-color: var(--fill-color);\n",
              "    }\n",
              "    30% {\n",
              "      border-color: transparent;\n",
              "      border-left-color: var(--fill-color);\n",
              "      border-top-color: var(--fill-color);\n",
              "      border-right-color: var(--fill-color);\n",
              "    }\n",
              "    40% {\n",
              "      border-color: transparent;\n",
              "      border-right-color: var(--fill-color);\n",
              "      border-top-color: var(--fill-color);\n",
              "    }\n",
              "    60% {\n",
              "      border-color: transparent;\n",
              "      border-right-color: var(--fill-color);\n",
              "    }\n",
              "    80% {\n",
              "      border-color: transparent;\n",
              "      border-right-color: var(--fill-color);\n",
              "      border-bottom-color: var(--fill-color);\n",
              "    }\n",
              "    90% {\n",
              "      border-color: transparent;\n",
              "      border-bottom-color: var(--fill-color);\n",
              "    }\n",
              "  }\n",
              "</style>\n",
              "\n",
              "      <script>\n",
              "        async function quickchart(key) {\n",
              "          const quickchartButtonEl =\n",
              "            document.querySelector('#' + key + ' button');\n",
              "          quickchartButtonEl.disabled = true;  // To prevent multiple clicks.\n",
              "          quickchartButtonEl.classList.add('colab-df-spinner');\n",
              "          try {\n",
              "            const charts = await google.colab.kernel.invokeFunction(\n",
              "                'suggestCharts', [key], {});\n",
              "          } catch (error) {\n",
              "            console.error('Error during call to suggestCharts:', error);\n",
              "          }\n",
              "          quickchartButtonEl.classList.remove('colab-df-spinner');\n",
              "          quickchartButtonEl.classList.add('colab-df-quickchart-complete');\n",
              "        }\n",
              "        (() => {\n",
              "          let quickchartButtonEl =\n",
              "            document.querySelector('#df-163cd719-8266-41eb-ba82-818e8afed5c2 button');\n",
              "          quickchartButtonEl.style.display =\n",
              "            google.colab.kernel.accessAllowed ? 'block' : 'none';\n",
              "        })();\n",
              "      </script>\n",
              "    </div>\n",
              "\n",
              "    </div>\n",
              "  </div>\n"
            ],
            "application/vnd.google.colaboratory.intrinsic+json": {
              "type": "dataframe",
              "variable_name": "df",
              "summary": "{\n  \"name\": \"df\",\n  \"rows\": 50,\n  \"fields\": [\n    {\n      \"column\": \"mitarbeiter\",\n      \"properties\": {\n        \"dtype\": \"category\",\n        \"num_unique_values\": 5,\n        \"samples\": [\n          \"Clara\",\n          \"Eva\",\n          \"Anna\"\n        ],\n        \"semantic_type\": \"\",\n        \"description\": \"\"\n      }\n    },\n    {\n      \"column\": \"abteilung\",\n      \"properties\": {\n        \"dtype\": \"category\",\n        \"num_unique_values\": 5,\n        \"samples\": [\n          \"Marketing\",\n          \"IT\",\n          \"Finanzen\"\n        ],\n        \"semantic_type\": \"\",\n        \"description\": \"\"\n      }\n    },\n    {\n      \"column\": \"start_datum\",\n      \"properties\": {\n        \"dtype\": \"date\",\n        \"min\": \"2024-01-02 00:00:00\",\n        \"max\": \"2024-12-14 00:00:00\",\n        \"num_unique_values\": 43,\n        \"samples\": [\n          \"2024-02-11 00:00:00\",\n          \"2024-06-19 00:00:00\",\n          \"2024-07-04 00:00:00\"\n        ],\n        \"semantic_type\": \"\",\n        \"description\": \"\"\n      }\n    },\n    {\n      \"column\": \"end_datum\",\n      \"properties\": {\n        \"dtype\": \"date\",\n        \"min\": \"2024-01-09 00:00:00\",\n        \"max\": \"2024-12-22 00:00:00\",\n        \"num_unique_values\": 48,\n        \"samples\": [\n          \"2024-06-19 00:00:00\",\n          \"2024-06-28 00:00:00\",\n          \"2024-07-09 00:00:00\"\n        ],\n        \"semantic_type\": \"\",\n        \"description\": \"\"\n      }\n    }\n  ]\n}"
            }
          },
          "metadata": {},
          "execution_count": 2
        }
      ]
    },
    {
      "cell_type": "markdown",
      "source": [
        "## 4. Datenüberblick und Vorbereitung\n",
        "Wir schauen uns die Struktur an und bereiten neue Spalten zur Analyse vor."
      ],
      "metadata": {
        "id": "FmdggWHR3nB4"
      }
    },
    {
      "cell_type": "code",
      "source": [
        "# Basisinformationen\n",
        "df.info()\n",
        "\n",
        "# Dauer berechnen\n",
        "df[\"urlaubstage\"] = (df[\"end_datum\"] - df[\"start_datum\"]).dt.days + 1\n",
        "\n",
        "# Monat extrahieren\n",
        "df[\"monat\"] = df[\"start_datum\"].dt.month\n"
      ],
      "metadata": {
        "colab": {
          "base_uri": "https://localhost:8080/"
        },
        "id": "7mjRl6QB4Wm_",
        "outputId": "69b60efa-40b4-49b3-f745-8dc3198fe3e8"
      },
      "execution_count": 3,
      "outputs": [
        {
          "output_type": "stream",
          "name": "stdout",
          "text": [
            "<class 'pandas.core.frame.DataFrame'>\n",
            "RangeIndex: 50 entries, 0 to 49\n",
            "Data columns (total 4 columns):\n",
            " #   Column       Non-Null Count  Dtype         \n",
            "---  ------       --------------  -----         \n",
            " 0   mitarbeiter  50 non-null     object        \n",
            " 1   abteilung    50 non-null     object        \n",
            " 2   start_datum  50 non-null     datetime64[ns]\n",
            " 3   end_datum    50 non-null     datetime64[ns]\n",
            "dtypes: datetime64[ns](2), object(2)\n",
            "memory usage: 1.7+ KB\n"
          ]
        }
      ]
    },
    {
      "cell_type": "markdown",
      "source": [
        "## 5. Explorative Analyse\n",
        "Wie ist der Urlaub über das Jahr verteilt? Welche Monate sind besonders beliebt?\n"
      ],
      "metadata": {
        "id": "4Mr6ZGFx4YBC"
      }
    },
    {
      "cell_type": "code",
      "source": [
        "# Urlaubstage pro Monat\n",
        "urlaub_monat = df.groupby(\"monat\")[\"urlaubstage\"].sum().reset_index()\n",
        "\n",
        "# Visualisierung\n",
        "plt.figure(figsize=(10, 6))\n",
        "sns.barplot(data=urlaub_monat, x=\"monat\", y=\"urlaubstage\", palette=\"Blues_d\")\n",
        "plt.title(\"Urlaubstage pro Monat\")\n",
        "plt.xlabel(\"Monat\")\n",
        "plt.ylabel(\"Anzahl Urlaubstage\")\n",
        "plt.xticks(range(0,12), [\"Jan\", \"Feb\", \"Mär\", \"Apr\", \"Mai\", \"Jun\", \"Jul\", \"Aug\", \"Sep\", \"Okt\", \"Nov\", \"Dez\"])\n",
        "plt.show()\n"
      ],
      "metadata": {
        "colab": {
          "base_uri": "https://localhost:8080/",
          "height": 662
        },
        "id": "4era0h7F4aL3",
        "outputId": "4d17c842-ac76-445b-bce0-8e07f22a4e48"
      },
      "execution_count": 4,
      "outputs": [
        {
          "output_type": "stream",
          "name": "stderr",
          "text": [
            "<ipython-input-4-eaef265ce0f3>:6: FutureWarning: \n",
            "\n",
            "Passing `palette` without assigning `hue` is deprecated and will be removed in v0.14.0. Assign the `x` variable to `hue` and set `legend=False` for the same effect.\n",
            "\n",
            "  sns.barplot(data=urlaub_monat, x=\"monat\", y=\"urlaubstage\", palette=\"Blues_d\")\n"
          ]
        },
        {
          "output_type": "display_data",
          "data": {
            "text/plain": [
              "<Figure size 1000x600 with 1 Axes>"
            ],
            "image/png": "[encoded data removed]"
          },
          "metadata": {}
        }
      ]
    },
    {
      "cell_type": "markdown",
      "source": [
        "## 6. Weitere Analysen (optional)\n",
        "- Urlaub nach Abteilung\n",
        "- Urlaub nach Mitarbeiter\n",
        "- Durchschnittliche Urlaubsdauer"
      ],
      "metadata": {
        "id": "hIN4OqSR4dnE"
      }
    },
    {
      "cell_type": "markdown",
      "source": [
        "## 7. Fazit\n",
        "Die Auswertung zeigt eine Konzentration von Urlauben in den Sommermonaten. Daraus lässt sich ableiten, dass besonders im Juli und August eine erhöhte Ausfallrate vorliegt. Eine bessere Urlaubsplanung könnte helfen, Engpässe zu vermeiden.\n"
      ],
      "metadata": {
        "id": "NL6GfETc4fSL"
      }
    }
  ]
}